{
 "cells": [
  {
   "cell_type": "code",
   "execution_count": 7,
   "metadata": {},
   "outputs": [
    {
     "name": "stdout",
     "output_type": "stream",
     "text": [
      "[ 25.  35.  45.  55.  65.  75.  85.]\n"
     ]
    }
   ],
   "source": [
    "# Problem Statement 1\n",
    "import numpy as np\n",
    "\n",
    "def moving_average(tempList,nSize):\n",
    "    ret=np.cumsum(tempList, dtype=float)\n",
    "    ret[nSize:] = ret[nSize:]-ret[:-nSize]\n",
    "    return ret[nSize-1:]/nSize \n",
    "    \n",
    "listAssign = [10,20,30,40,50,60,70,80,90,100] \n",
    "print(moving_average(listAssign,4))"
   ]
  },
  {
   "cell_type": "code",
   "execution_count": 8,
   "metadata": {},
   "outputs": [
    {
     "name": "stdout",
     "output_type": "stream",
     "text": [
      "[   5.            4.66666667    5.66666667    6.66666667    9.66666667\n",
      "   28.66666667   49.33333333   72.66666667   84.           93.33333333\n",
      "  116.33333333]\n"
     ]
    }
   ],
   "source": [
    "# Problem Statement 2\n",
    "listAssign = [3, 5, 7, 2, 8, 10, 11, 65, 72, 81, 99, 100, 150] \n",
    "print(moving_average(listAssign,3))"
   ]
  },
  {
   "cell_type": "code",
   "execution_count": null,
   "metadata": {
    "collapsed": true
   },
   "outputs": [],
   "source": []
  }
 ],
 "metadata": {
  "kernelspec": {
   "display_name": "Python 3",
   "language": "python",
   "name": "python3"
  },
  "language_info": {
   "codemirror_mode": {
    "name": "ipython",
    "version": 3
   },
   "file_extension": ".py",
   "mimetype": "text/x-python",
   "name": "python",
   "nbconvert_exporter": "python",
   "pygments_lexer": "ipython3",
   "version": "3.6.3"
  }
 },
 "nbformat": 4,
 "nbformat_minor": 2
}
